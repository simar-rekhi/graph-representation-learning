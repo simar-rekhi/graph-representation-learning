{
 "cells": [
  {
   "cell_type": "markdown",
   "id": "7e15bcef-10be-482b-9fb3-af1d78a3c2ac",
   "metadata": {},
   "source": [
    "### import the necessary modules"
   ]
  },
  {
   "cell_type": "code",
   "execution_count": null,
   "id": "7781bfd6-cf98-40c2-827a-4be78cb8586d",
   "metadata": {},
   "outputs": [],
   "source": [
    "!pip install giotto-tda"
   ]
  },
  {
   "cell_type": "code",
   "execution_count": 9,
   "id": "ca022cf7-933d-4bf1-a697-b81ba2c75a73",
   "metadata": {},
   "outputs": [
    {
     "ename": "ModuleNotFoundError",
     "evalue": "No module named 'gtda'",
     "output_type": "error",
     "traceback": [
      "\u001b[31m---------------------------------------------------------------------------\u001b[39m",
      "\u001b[31mModuleNotFoundError\u001b[39m                       Traceback (most recent call last)",
      "\u001b[36mCell\u001b[39m\u001b[36m \u001b[39m\u001b[32mIn[9]\u001b[39m\u001b[32m, line 8\u001b[39m\n\u001b[32m      5\u001b[39m \u001b[38;5;28;01mfrom\u001b[39;00m\u001b[38;5;250m \u001b[39m\u001b[34;01msklearn\u001b[39;00m\u001b[34;01m.\u001b[39;00m\u001b[34;01mmetrics\u001b[39;00m\u001b[38;5;250m \u001b[39m\u001b[38;5;28;01mimport\u001b[39;00m accuracy_score\n\u001b[32m      6\u001b[39m \u001b[38;5;28;01mfrom\u001b[39;00m\u001b[38;5;250m \u001b[39m\u001b[34;01msklearn\u001b[39;00m\u001b[34;01m.\u001b[39;00m\u001b[34;01mensemble\u001b[39;00m\u001b[38;5;250m \u001b[39m\u001b[38;5;28;01mimport\u001b[39;00m RandomForestClassifier\n\u001b[32m----> \u001b[39m\u001b[32m8\u001b[39m \u001b[38;5;28;01mfrom\u001b[39;00m\u001b[38;5;250m \u001b[39m\u001b[34;01mgtda\u001b[39;00m\u001b[34;01m.\u001b[39;00m\u001b[34;01mhomology\u001b[39;00m\u001b[38;5;250m \u001b[39m\u001b[38;5;28;01mimport\u001b[39;00m VietorisRipsPersistence\n\u001b[32m      9\u001b[39m \u001b[38;5;28;01mfrom\u001b[39;00m\u001b[38;5;250m \u001b[39m\u001b[34;01mgtda\u001b[39;00m\u001b[34;01m.\u001b[39;00m\u001b[34;01mdiagrams\u001b[39;00m\u001b[38;5;250m \u001b[39m\u001b[38;5;28;01mimport\u001b[39;00m PersistenceEntropy, PersistenceImage\n\u001b[32m     11\u001b[39m \u001b[38;5;28;01mfrom\u001b[39;00m\u001b[38;5;250m \u001b[39m\u001b[34;01mtorch_geometric\u001b[39;00m\u001b[34;01m.\u001b[39;00m\u001b[34;01mdatasets\u001b[39;00m\u001b[38;5;250m \u001b[39m\u001b[38;5;28;01mimport\u001b[39;00m TUDataset\n",
      "\u001b[31mModuleNotFoundError\u001b[39m: No module named 'gtda'"
     ]
    }
   ],
   "source": [
    "import numpy as np\n",
    "import pandas as pd\n",
    "\n",
    "from sklearn.model_selection import train_test_split\n",
    "from sklearn.metrics import accuracy_score\n",
    "from sklearn.ensemble import RandomForestClassifier\n",
    "\n",
    "from gtda.homology import VietorisRipsPersistence\n",
    "from gtda.diagrams import PersistenceEntropy, PersistenceImage\n",
    "\n",
    "from torch_geometric.datasets import TUDataset\n",
    "\n",
    "import networkx as nx"
   ]
  },
  {
   "cell_type": "markdown",
   "id": "edc86291-f174-4d68-bc7a-ec6cc45eb316",
   "metadata": {},
   "source": [
    "### step 1: load the dataset"
   ]
  },
  {
   "cell_type": "code",
   "execution_count": null,
   "id": "fd98b30b-1c9a-4029-9aea-3069fd4bbcbe",
   "metadata": {},
   "outputs": [],
   "source": [
    "dataset = TUDataset(root='data/TUDataset', name=MUTAG)\n",
    "\n",
    "# extracting the graphs from the dataset\n",
    "graphs = [data for data in dataset]"
   ]
  },
  {
   "cell_type": "markdown",
   "id": "84225263-17c3-413e-8c5f-494bbe335dce",
   "metadata": {},
   "source": [
    "### step 2: node filtration values\n",
    "\n",
    "- we assign a metric to track each graph, here, we deploy degree\n",
    "- setting up a threshold t and then progressively increasing it. As we do this, we only read/learn from the graphs with degree <= t, and therefore, allow more graphs as t is made to increase.\n",
    "- learning and keeping a track of these graphs progressively is done in the next step - persistent homology"
   ]
  },
  {
   "cell_type": "code",
   "execution_count": null,
   "id": "954a3359-471b-4187-97b1-7b7070e4dd02",
   "metadata": {},
   "outputs": [],
   "source": [
    "G = nx.Graph()\n",
    "\n",
    "for u, v in dataset[0].edge_index.t().tolist():\n",
    "    G.add_edges_from([(u.item(), v.item()])\n",
    "\n",
    "degree_filtration = dict(G.degree())"
   ]
  },
  {
   "cell_type": "markdown",
   "id": "6f2f156f-81bd-40cf-956a-a30da4ae9541",
   "metadata": {},
   "source": [
    "### step 3: persistent homology pipeline"
   ]
  },
  {
   "cell_type": "code",
   "execution_count": null,
   "id": "96c0bb04-5abe-4f06-99d1-409c907d849e",
   "metadata": {},
   "outputs": [],
   "source": [
    "VR = VietorisRipsPersistence()\n",
    "diagrams = VR.fit_transform([nx.to_numpy_array(G)])"
   ]
  },
  {
   "cell_type": "markdown",
   "id": "78924d45-cad1-48fb-86d7-821e5d378270",
   "metadata": {},
   "source": [
    "### step 4: vectorize persistence diagrams"
   ]
  },
  {
   "cell_type": "code",
   "execution_count": null,
   "id": "1b6c15ee-70c4-4923-ada4-1572f4d012fe",
   "metadata": {},
   "outputs": [],
   "source": [
    "persistence_image = PersistenceImage(bandwidth=1.0, weight=lambda x:x[1]**2)\n",
    "X = PI.fit_transform(diagrams)"
   ]
  },
  {
   "cell_type": "markdown",
   "id": "c4c361b8-f623-4ce4-806c-aeb9db7f4a05",
   "metadata": {},
   "source": [
    "### step 5: train the model"
   ]
  },
  {
   "cell_type": "code",
   "execution_count": null,
   "id": "e648f82d-4199-4524-81d0-0038b89e25f0",
   "metadata": {},
   "outputs": [],
   "source": [
    "y = dataset.data.y.numpy()\n",
    "X_train, X_test, y_train, y_test = train_test_split(X.reshape(len(X), -1), y, test_size=0.2)\n",
    "\n",
    "clf = RandomForestClassifier(n_estimators = 100)\n",
    "clf.fit(X_train, y_train)\n",
    "y_pred = clf.predict(X_test)"
   ]
  },
  {
   "cell_type": "markdown",
   "id": "948a95b0-232b-458b-8166-2a0113ed3ac6",
   "metadata": {},
   "source": [
    "### step 6: analyze accuracy"
   ]
  },
  {
   "cell_type": "code",
   "execution_count": null,
   "id": "d500da1b-cd98-4f2e-b6d1-22d1ab6ef674",
   "metadata": {},
   "outputs": [],
   "source": [
    "print(\"accuracy: \", accuracy_score(y_test, y_pred))"
   ]
  },
  {
   "cell_type": "code",
   "execution_count": null,
   "id": "17418416-ae5c-4e14-bd63-238622b25887",
   "metadata": {},
   "outputs": [],
   "source": []
  }
 ],
 "metadata": {
  "kernelspec": {
   "display_name": "Python 3 (ipykernel)",
   "language": "python",
   "name": "python3"
  },
  "language_info": {
   "codemirror_mode": {
    "name": "ipython",
    "version": 3
   },
   "file_extension": ".py",
   "mimetype": "text/x-python",
   "name": "python",
   "nbconvert_exporter": "python",
   "pygments_lexer": "ipython3",
   "version": "3.13.5"
  }
 },
 "nbformat": 4,
 "nbformat_minor": 5
}
