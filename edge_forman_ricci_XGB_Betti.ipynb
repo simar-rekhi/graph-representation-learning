{
 "cells": [
  {
   "cell_type": "markdown",
   "metadata": {},
   "source": [
    "### 1. import the modules\n"
   ]
  },
  {
   "cell_type": "code",
   "execution_count": 7,
   "metadata": {},
   "outputs": [],
   "source": [
    "from torch_geometric.datasets import TUDataset\n",
    "import pandas as pd\n",
    "import numpy as np\n",
    "\n",
    "from gtda.homology import VietorisRipsPersistence\n",
    "import networkx as nx\n",
    "from gtda.diagrams import BettiCurve\n",
    "\n",
    "from xgboost import XGBClassifier\n",
    "from sklearn.model_selection import train_test_split, GridSearchCV, cross_val_score\n",
    "from sklearn.metrics import accuracy_score\n",
    "\n",
    "from scipy.stats import rankdata\n",
    "from itertools import combinations\n"
   ]
  },
  {
   "cell_type": "markdown",
   "metadata": {},
   "source": [
    "### 2. load and prep the data\n",
    "\n",
    "Each row of a given file is a graph, with:\n",
    "- edge_index (list: 2 x #edges): pairs of nodes constituting edges\n",
    "- edge_attr (list: #edges x #edge-features): for the aforementioned edges, contains their features\n",
    "- y (list: 1 x #labels): contains the number of labels available to predict (here 1, equal to zero or one)\n",
    "\n",
    "here, each entry in dataset, is a graph AND NOT tabular data\n"
   ]
  },
  {
   "cell_type": "code",
   "execution_count": 8,
   "metadata": {},
   "outputs": [
    {
     "name": "stdout",
     "output_type": "stream",
     "text": [
      "Data(edge_index=[2, 38], x=[17, 7], edge_attr=[38, 4], y=[1])\n"
     ]
    }
   ],
   "source": [
    "dataset = TUDataset(root=\"data/TUDataset\", name=\"MUTAG\")\n",
    "print (dataset[0])\n"
   ]
  },
  {
   "cell_type": "markdown",
   "metadata": {},
   "source": [
    "### 3. Forman-Ricci curvature computation for edge filtration\n",
    "- Forman-Ricci curvature captures the local geometry around each edge\n",
    "- We'll use these curvature values to create distance matrices for edge-based filtration\n",
    "- Higher curvature indicates well-connected regions, lower curvature indicates bridges/bottlenecks\n"
   ]
  },
  {
   "cell_type": "code",
   "execution_count": 9,
   "metadata": {},
   "outputs": [],
   "source": [
    "def compute_forman_ricci_curvature(G):\n",
    "    \"\"\"\n",
    "    Compute Forman-Ricci curvature for each edge in the graph.\n",
    "    \n",
    "    Formula: Ric_F(u,v) = 4 - deg(u) - deg(v) + 3*triangles(u,v) + 2*quadrangles(u,v)\n",
    "    For simplicity, we'll use a simplified version focusing on degrees and triangles.\n",
    "    \"\"\"\n",
    "    curvatures = {}\n",
    "    \n",
    "    for u, v in G.edges():\n",
    "        deg_u = G.degree(u)\n",
    "        deg_v = G.degree(v)\n",
    "        \n",
    "        # Count triangles containing edge (u,v)\n",
    "        common_neighbors = set(G.neighbors(u)) & set(G.neighbors(v))\n",
    "        triangles = len(common_neighbors)\n",
    "        \n",
    "        # Simplified Forman-Ricci curvature (focusing on degrees and triangles)\n",
    "        curvature = 4 - deg_u - deg_v + 3 * triangles\n",
    "        curvatures[(u, v)] = curvature\n",
    "    \n",
    "    return curvatures\n",
    "\n",
    "def create_edge_distance_matrix(G, curvatures):\n",
    "    \"\"\"\n",
    "    Create a distance matrix based on edge curvature differences.\n",
    "    We'll map edges to nodes in a new graph where edges become nodes.\n",
    "    \"\"\"\n",
    "    edges = list(G.edges())\n",
    "    n_edges = len(edges)\n",
    "    \n",
    "    if n_edges == 0:\n",
    "        return np.zeros((1, 1))\n",
    "    \n",
    "    # Create distance matrix based on curvature differences\n",
    "    dist_matrix = np.zeros((n_edges, n_edges))\n",
    "    \n",
    "    for i, edge1 in enumerate(edges):\n",
    "        for j, edge2 in enumerate(edges):\n",
    "            if i == j:\n",
    "                dist_matrix[i, j] = 0\n",
    "            else:\n",
    "                curv1 = curvatures.get(edge1, curvatures.get((edge1[1], edge1[0]), 0))\n",
    "                curv2 = curvatures.get(edge2, curvatures.get((edge2[1], edge2[0]), 0))\n",
    "                dist_matrix[i, j] = abs(curv1 - curv2)\n",
    "    \n",
    "    return dist_matrix\n",
    "\n",
    "VR = VietorisRipsPersistence(metric=\"precomputed\", homology_dimensions=[0,1], n_jobs=-1)\n",
    "\n",
    "graph_distance_matrices = []\n",
    "y = []\n",
    "for data in dataset:\n",
    "    G = nx.Graph()\n",
    "    edges = data.edge_index.numpy().T\n",
    "    G.add_edges_from(edges)\n",
    "    y.append(data.y.item())\n",
    "\n",
    "    # Compute Forman-Ricci curvature for all edges\n",
    "    curvatures = compute_forman_ricci_curvature(G)\n",
    "    \n",
    "    # Create distance matrix based on edge curvature differences\n",
    "    dist_matrix = create_edge_distance_matrix(G, curvatures)\n",
    "    \n",
    "    graph_distance_matrices.append(dist_matrix)\n"
   ]
  },
  {
   "cell_type": "markdown",
   "metadata": {},
   "source": [
    "### 4. perform persistent homology based on edge curvature filtration\n"
   ]
  },
  {
   "cell_type": "code",
   "execution_count": 10,
   "metadata": {},
   "outputs": [],
   "source": [
    "dgms = VR.fit_transform(graph_distance_matrices)\n",
    "\n",
    "# Single Betti curve computation for faster processing\n",
    "BC = BettiCurve(n_bins=100)\n",
    "X = BC.fit_transform(dgms).reshape(len(dgms), -1)\n",
    "y = np.array(y)\n"
   ]
  },
  {
   "cell_type": "markdown",
   "metadata": {},
   "source": [
    "### 5. hyperparam tuning & training the classifier\n"
   ]
  },
  {
   "cell_type": "code",
   "execution_count": 18,
   "metadata": {},
   "outputs": [
    {
     "name": "stdout",
     "output_type": "stream",
     "text": [
      "Best params:\n",
      " {'booster': 'gbtree', 'eta': 0.3, 'learning_rate': 0.01, 'max_depth': 5, 'tree_method': 'auto'}\n"
     ]
    }
   ],
   "source": [
    "X_train, X_test, y_train, y_test = train_test_split(X, y, test_size = 0.2, random_state = 42)\n",
    "param_grid = {\n",
    "    \"max_depth\":[3,5,7],\n",
    "    \"booster\":['gbtree', 'dart'],\n",
    "    \"learning_rate\": [0.01, 0.1, 0.2]\n",
    "}\n",
    "\n",
    "grid = GridSearchCV(XGBClassifier(), param_grid, cv = 5, scoring = 'accuracy')\n",
    "grid.fit(X_train, y_train)\n",
    "print(\"Best params:\\n\", grid.best_params_)\n"
   ]
  },
  {
   "cell_type": "code",
   "execution_count": 20,
   "metadata": {},
   "outputs": [
    {
     "name": "stdout",
     "output_type": "stream",
     "text": [
      "XGB accuracy:  0.631578947368421\n",
      "Mean cross validation score:  0.7023391812865498\n"
     ]
    }
   ],
   "source": [
    "clf = XGBClassifier(\n",
    "    booster='gbtree', \n",
    "    learning_rate=0.1, \n",
    "    max_depth=3, \n",
    "    n_estimators=200, \n",
    "    subsample=0.8,\n",
    "    colsample_bytree=0.8,\n",
    "    random_state=42\n",
    ")\n",
    "clf.fit(X_train, y_train)\n",
    "\n",
    "y_pred = clf.predict(X_test)\n",
    "scores = cross_val_score(clf, X, y, cv=10, scoring='accuracy')\n",
    "print(\"XGB accuracy: \", accuracy_score(y_test, y_pred))\n",
    "print(\"Mean cross validation score: \", scores.mean())\n"
   ]
  },
  {
   "cell_type": "code",
   "execution_count": null,
   "metadata": {},
   "outputs": [],
   "source": []
  }
 ],
 "metadata": {
  "kernelspec": {
   "display_name": "Python 3.10 (gtda_env)",
   "language": "python",
   "name": "gtda_env"
  },
  "language_info": {
   "codemirror_mode": {
    "name": "ipython",
    "version": 3
   },
   "file_extension": ".py",
   "mimetype": "text/x-python",
   "name": "python",
   "nbconvert_exporter": "python",
   "pygments_lexer": "ipython3",
   "version": "3.10.11"
  }
 },
 "nbformat": 4,
 "nbformat_minor": 4
}
